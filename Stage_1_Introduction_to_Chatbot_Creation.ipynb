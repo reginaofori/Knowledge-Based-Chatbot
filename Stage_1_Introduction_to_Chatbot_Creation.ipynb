{
  "nbformat": 4,
  "nbformat_minor": 0,
  "metadata": {
    "colab": {
      "provenance": [],
      "authorship_tag": "ABX9TyPhevGIKreYwrgzVSZxCvCf",
      "include_colab_link": true
    },
    "kernelspec": {
      "name": "python3",
      "display_name": "Python 3"
    },
    "language_info": {
      "name": "python"
    }
  },
  "cells": [
    {
      "cell_type": "markdown",
      "metadata": {
        "id": "view-in-github",
        "colab_type": "text"
      },
      "source": [
        "<a href=\"https://colab.research.google.com/github/reginaofori/Knowledge-Based-Chatbot/blob/main/Stage_1_Introduction_to_Chatbot_Creation.ipynb\" target=\"_parent\"><img src=\"https://colab.research.google.com/assets/colab-badge.svg\" alt=\"Open In Colab\"/></a>"
      ]
    },
    {
      "cell_type": "markdown",
      "source": [
        "#### Stage 1: Introduction to Conversational AI/Chatbot Creation\n",
        "\n",
        " - Welcome to the beginning of an immersive journey into the realm of conversational AI. This single-stage project aims to give you hands-on experience developing a basic yet functional chatbot that can interact with users and respond to queries using a pre-defined knowledge base. Your voyage into this exciting field of AI will be one marked by discovery, learning, and application of theoretical concepts.\n",
        "\n",
        " - In this first stage, we will create a simple chatbot with the following objectives:\n",
        "    -  1. Initial Greeting: Start by greeting the user and inviting them to ask questions.\n",
        "    - 2. Input Reception: Be able to accept user input in the form of a question or a statement.\n",
        "    - 3. Input Processing: Be capable of processing the user's input.\n",
        "    - 4. Formulate a Response: Based on the processed input, the chabot searches its predefined knowledge base for an appropriate response. The chatbot should formulate a reply if the knowledge base contains an answer.\n",
        "    - 5. Output a Response: Should output the formulated response back to the user, completing one cycle of interaction as well as be prepared to accept a follow-up question or a new question from the user.\n",
        "    - 6. Handle Unknown Queries: If a user's query doesn't match anything in the chatbot's knowledge base, it should have a default response indicating that it doesn't know the answer.\n",
        "    - 7. Testing and Iterating\n",
        "\n",
        "  So let's embark on this exciting adventure, and who knows, the chatbot you develop might just be the next big thing in A"
      ],
      "metadata": {
        "id": "gSW_DZxIzR36"
      }
    },
    {
      "cell_type": "markdown",
      "source": [
        "##### **Objective 1: Initial Greeting**\n",
        "\n",
        "- As the first step to creating a chatbot, the code below, shows a basic greeting method.\n",
        "- To improve upon the greeting, more dynamic approach, based on the time of day, the user's past interactions, or other contextual factors can be deployed.\n",
        "- In this stage of project, we  modify the greeting based on the time of day as seen in the code below.\n",
        "- As we progress, we will learn the other dynaic approaches.\n",
        "\n",
        "\n",
        "\n",
        "\n",
        "\n",
        "\n",
        "\n"
      ],
      "metadata": {
        "id": "Mxb-Xj2-0xAJ"
      }
    },
    {
      "cell_type": "code",
      "source": [
        "greeting = \"Hello! How can I assist you today?\"\n",
        "print(greeting)\n"
      ],
      "metadata": {
        "id": "LSbouw-3zUao",
        "colab": {
          "base_uri": "https://localhost:8080/"
        },
        "outputId": "4aaa805b-3486-42f2-d96d-923ca5b4f920"
      },
      "execution_count": 1,
      "outputs": [
        {
          "output_type": "stream",
          "name": "stdout",
          "text": [
            "Hello! How can I assist you today?\n"
          ]
        }
      ]
    },
    {
      "cell_type": "code",
      "source": [
        "import datetime\n",
        "\n",
        "def get_greeting():\n",
        "    current_hour = datetime.datetime.now().hour\n",
        "\n",
        "    if 5 <= current_hour < 12:\n",
        "        return \"Good morning! How can I assist you today?\"\n",
        "    elif 12 <= current_hour < 18:\n",
        "        return \"Good afternoon! How can I assist you today?\"\n",
        "    else:\n",
        "        return \"Good evening! How can I assist you today?\"\n",
        "\n",
        "print(get_greeting())\n"
      ],
      "metadata": {
        "colab": {
          "base_uri": "https://localhost:8080/"
        },
        "id": "I-GaceiQ2HZs",
        "outputId": "298d8dc9-e55f-41fd-84cc-8f205a3be545"
      },
      "execution_count": 2,
      "outputs": [
        {
          "output_type": "stream",
          "name": "stdout",
          "text": [
            "Good afternoon! How can I assist you today?\n"
          ]
        }
      ]
    },
    {
      "cell_type": "markdown",
      "source": [
        "##### **Objective 2:Input Reception**\n",
        "\n",
        "- In this objective, we use a function that accepts user inputs\n",
        "- In the advanced stages, we will learn how to improve the this objective by using techniques such as:\n",
        "  -  Providing a Clear Prompt\n",
        "  - Striping Unnecessary Spaces\n",
        "  - Handle Case Sensitivity\n",
        "  - Loop for Continual Interaction\n",
        "  - Error Handling"
      ],
      "metadata": {
        "id": "SPp5LsOG2LQL"
      }
    },
    {
      "cell_type": "code",
      "source": [
        "user_input = input(\"> \")\n"
      ],
      "metadata": {
        "colab": {
          "base_uri": "https://localhost:8080/"
        },
        "id": "Ayj9llGX25ag",
        "outputId": "13902134-465c-498f-ce58-d7eb262482b9"
      },
      "execution_count": 9,
      "outputs": [
        {
          "name": "stdout",
          "output_type": "stream",
          "text": [
            "> who is ELon Musk\n"
          ]
        }
      ]
    },
    {
      "cell_type": "markdown",
      "source": [
        "##### **Objective 3: Input Processing**\n",
        "\n",
        "- For this objective, we will explore two approaches; a simple method by converting all the user input to lowercase and a more complex processing called Named Entity Recognition (NER).\n",
        "- NER sometimes referred to as entity chunking, extraction, or identification — is the task of identifying and categorizing key information (entities) in text. An entity can be any word or series of words that consistently refers to the same thing. Every detected entity is classified into a predetermined category. For example, an NER machine learning (ML) model might detect the word “super.AI” in a text and classify it as a “Company”.\n",
        "- Other complex method, we will look at in the other stages to improve the chatbot are topic modelling, and Machine Reading Comprehension (MRC) with  libraries such as spaCy, gensim, and Transformers from Hugging Face.\n",
        "\n",
        "\n"
      ],
      "metadata": {
        "id": "U5lU8mD13-fm"
      }
    },
    {
      "cell_type": "code",
      "source": [
        "# Alt 1\n",
        "\n",
        "user_input = user_input.lower()\n",
        "user_input"
      ],
      "metadata": {
        "colab": {
          "base_uri": "https://localhost:8080/",
          "height": 35
        },
        "id": "MuoKTai24J8l",
        "outputId": "65633f41-a886-44f3-cbf8-673fd898d668"
      },
      "execution_count": 10,
      "outputs": [
        {
          "output_type": "execute_result",
          "data": {
            "text/plain": [
              "'who is elon musk'"
            ],
            "application/vnd.google.colaboratory.intrinsic+json": {
              "type": "string"
            }
          },
          "metadata": {},
          "execution_count": 10
        }
      ]
    },
    {
      "cell_type": "code",
      "source": [
        "# ALT 2\n",
        "\n",
        "import spacy\n",
        "\n",
        "nlp = spacy.load(\"en_core_web_sm\")  # Loading the English model\n",
        "\n",
        "def extract_entities(user_input):\n",
        "    doc = nlp(user_input)  # Processing the text\n",
        "    for ent in doc.ents:   # Iterating over the entities\n",
        "        print(f'Entity: {ent.text}, Label: {ent.label_}, Start Char: {ent.start_char}, End Char: {ent.end_char}')\n",
        "\n",
        "user_input = input(\"Please enter your question or 'quit' to exit: \").strip()\n",
        "if user_input != 'quit':\n",
        "    extract_entities(user_input)\n"
      ],
      "metadata": {
        "colab": {
          "base_uri": "https://localhost:8080/"
        },
        "id": "b1SRZFc635CA",
        "outputId": "f48dee61-6888-40e8-a9f2-857de6a33d70"
      },
      "execution_count": 6,
      "outputs": [
        {
          "output_type": "stream",
          "name": "stdout",
          "text": [
            "Please enter your question or 'quit' to exit: Who is Elon Musk?\n",
            "Entity: Elon Musk, Label: PERSON, Start Char: 7, End Char: 16\n"
          ]
        }
      ]
    },
    {
      "cell_type": "markdown",
      "source": [
        "##### **Objective 4: Formulating a Response**\n",
        "\n",
        "\n",
        "- To formulate a response, the chatbot uses a pre-defined knowlege source or base.\n",
        "- In this stage, we hardcode its knowlege source.\n",
        "- As we progress, we will lear how to connect to a database or an external API, enabling the chatbot to access large amounts of data and provide dynamic responses.\n",
        "- Additionally, we will leran how to use LLMs"
      ],
      "metadata": {
        "id": "nEr5keMu50YD"
      }
    },
    {
      "cell_type": "code",
      "source": [
        "knowledge_base = {\n",
        "    \"who is elon musk\": \"Elon Musk is a business magnate and investor...\",\n",
        "    \"what is ai\": \"Artificial Intelligence (AI) is a branch of computer science...\",\n",
        "    \"what is hyperskill\":\"A flexible platform for organizing and distributing structured and interactive tech skills education....\"\n",
        "}"
      ],
      "metadata": {
        "id": "Lc-fYkTy5Tfl"
      },
      "execution_count": 13,
      "outputs": []
    },
    {
      "cell_type": "markdown",
      "source": [
        "##### **Objective 5 and 6: Outputting a Response and handling unknown queries**"
      ],
      "metadata": {
        "id": "uoIQkib_9QOp"
      }
    },
    {
      "cell_type": "code",
      "source": [
        "def respond(user_input):\n",
        "    # Convert input to lower case and remove punctuation\n",
        "    processed_input = user_input.lower().rstrip('?:!.,;')\n",
        "    if processed_input in knowledge_base:\n",
        "        return knowledge_base[processed_input]\n",
        "    else:\n",
        "        return \"Sorry, I can't answer that.\""
      ],
      "metadata": {
        "id": "ml9u9Aiu9MMC"
      },
      "execution_count": 14,
      "outputs": []
    },
    {
      "cell_type": "code",
      "source": [
        "print(respond(user_input))"
      ],
      "metadata": {
        "colab": {
          "base_uri": "https://localhost:8080/"
        },
        "id": "g_DsWLIn9uO5",
        "outputId": "04ef12b9-64ee-4db9-ad66-355756e0ffe5"
      },
      "execution_count": 15,
      "outputs": [
        {
          "output_type": "stream",
          "name": "stdout",
          "text": [
            "Elon Musk is a business magnate and investor...\n"
          ]
        }
      ]
    },
    {
      "cell_type": "markdown",
      "source": [
        "#####  **Objective 6: Testing and Iterating**\n",
        "\n",
        "- Lastly, we test our simple chatbot created!"
      ],
      "metadata": {
        "id": "s1bhs12A-Hyu"
      }
    },
    {
      "cell_type": "code",
      "source": [
        "def start_chat():\n",
        "    print(get_greeting())\n",
        "    while True:\n",
        "        user_input = input(\"> \")\n",
        "        if user_input.lower() == \"bye\":\n",
        "            print(\"Goodbye! Have a great day!\")\n",
        "            break\n",
        "        else:\n",
        "            print(respond(user_input))\n",
        "\n",
        "# Start the chatbot\n",
        "start_chat()\n"
      ],
      "metadata": {
        "colab": {
          "base_uri": "https://localhost:8080/"
        },
        "id": "ewqlRfTf93h_",
        "outputId": "4618666c-9a5c-48a6-ae4d-779cede17c12"
      },
      "execution_count": 16,
      "outputs": [
        {
          "output_type": "stream",
          "name": "stdout",
          "text": [
            "Good afternoon! How can I assist you today?\n",
            "> who is elon musk?\n",
            "Elon Musk is a business magnate and investor...\n",
            "> what is ai\n",
            "Artificial Intelligence (AI) is a branch of computer science...\n",
            "> what is hyperskill\n",
            "A flexible platform for organizing and distributing structured and interactive tech skills education....\n",
            "> who is barack obama\n",
            "Sorry, I can't answer that.\n",
            "> bye\n",
            "Goodbye! Have a great day!\n"
          ]
        }
      ]
    },
    {
      "cell_type": "markdown",
      "source": [
        "### Conclusion\n",
        "\n",
        "In this stage, we create a simple interactive conversational AI chatbot with NER. In the next steps, we will improve our chatbot by following the suggestions mentioned. We only begin our journey into an exciting learning!"
      ],
      "metadata": {
        "id": "US-D9BMq_OxF"
      }
    }
  ]
}